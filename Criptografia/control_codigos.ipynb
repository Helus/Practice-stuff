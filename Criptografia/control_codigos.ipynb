{
 "cells": [
  {
   "cell_type": "markdown",
   "metadata": {
    "collapsed": false
   },
   "source": [
    "\n",
    "### Breve explicación da proba\n",
    "A presente folla non é **.sagews** (*sagemath woksheet*), senón **.ipynb** (*jupyter notebook*). Coma nunha sage worksheet, se precisas abrir un grupo de execución, simplemente toca co rato na barra que separa dous grupos. Dado que os comandos corresponde a sagemath, para executar hai que pulsar shift + return, coma sempre.\n",
    "\n",
    "Nesta folla vaste atopar con celdas de comentarios (coma esta), celdas con funcións definidas por min (que non podes modificar) que se executas podes usar a función. Depois, hai celdas nas que se che pide definir unha función que veñen seguidas dunha celda con casos de test que deberá satisfacer a túa definición.\n",
    "\n",
    "A modo de exemplo, fíxate nas dúas celdas que seguen:\n",
    "\n",
    "```\n",
    "def restar(a,b):  \n",
    "    \"\"\"\n",
    "    devolve a resta dos números a e b\n",
    "    \"\"\"\n",
    "    # YOUR CODE HERE\n",
    "    raise NotImplementedError()\n",
    "```\n",
    "\n",
    "```\n",
    "# algúns tests para comprobar que restar funciona como se espera\n",
    "from nose.tools import assert_equal\n",
    "assert_equal(restar(1,2), -1)\n",
    "assert_equal(restar(0,-5), 5)\n",
    "```\n",
    "Na primeira terías que definir a función `restar` con parámetros `a` e `b` que ten que devolver a resta de `a` e `b`. Escribe o teu código no lugar indicado, eliminando a liña\n",
    "\n",
    "`raise NotImplementedError()`.\n",
    "\n",
    "Na segunda verás os tests que deberá pasar a túa función, `restar` [^1]\n",
    "\n",
    "- `restar(1,2) == -1`\n",
    "- `restar(0,-5) == 5`\n",
    " \n",
    "Na parte superior de cada celda de tests está a puntuación asignada a pregunta.\n",
    "\n",
    "[^1] *Podes abrir unha celda e facer ti outras comprobacións adicionais.*\n"
   ]
  },
  {
   "cell_type": "markdown",
   "metadata": {
    "collapsed": false
   },
   "source": [
    "### Pregunta 1\n",
    "Considera o **sistema de identificación** consistente en cadeas de 10 caracteres do alfabeto `'0123456789A'`. Para validar que a cadea \\(c_1c_2\\cdots c_{10}\\) representa un identificador válido, se a cada caracter \\(c_i\\) lle asociamos a posición \\(p_i\\) no alfabeto (comezando pola posición 0), entón ten que verificarse que, tanto\n",
    "\\(\\displaystyle\\sum_{i=1}^{10} p_i\\), como  \\(\\displaystyle\\sum_{i=1}^{10} ip_i\\) son múltiplos de 11.\n",
    "\n",
    "Coñecidos \\(c_1\\cdots c_{8}\\), podemos determinar \\(c_9\\) e \\(c_{10}\\) tendo en conta que, se \\(p_i\\) é o valor asociado a \\(c_i\\), entón:\n",
    "\n",
    "\\( p_9+p_{10} \\equiv -(p_1+\\cdots +p_{8})\\mod{11}\\)\n",
    "\n",
    "\\( 9p_9+10p_{10} \\equiv 9p_9-p_{10}\\equiv -(1p_1+\\cdots +8p_{8})\\mod{11}\\)\n",
    "\n",
    "\n",
    "A función `DC` definida a continuación, dada unha cadea `S` con 8 símbolos do noso alfabeto, calcula a cadea de dous símbolos que, engadida a `S` pola dereita fan un identificador válido."
   ]
  },
  {
   "cell_type": "code",
   "execution_count": 3,
   "metadata": {
    "collapsed": false
   },
   "outputs": [
   ],
   "source": [
    "def DC(s):\n",
    "    if len(s) != 8: raise ValueError ('s non ten 8 caracteres')                      # devolve un erro se non ten lonxitude 8\n",
    "    alf = '0123456789A'\n",
    "    P = []\n",
    "    for c in s:\n",
    "        if not c in alf: raise ValueError ('s ten símbolos de fóra do alfabeto')     # devolve erro se algún símbolo non é do alfabeto\n",
    "        else:\n",
    "            pos = alf.index(c)\n",
    "            P.append(pos)\n",
    "    p09 = (sum(P) + sum([(1+i)*P[i] for i in range(8)])) % 11\n",
    "    p10 = (-sum(P) - p09 ) % 11\n",
    "    return alf[p09] + alf[p10]"
   ]
  },
  {
   "cell_type": "markdown",
   "metadata": {
    "collapsed": false
   },
   "source": [
    "Na celda de abaixo, deberás utilizar a función DC para definir val, unha función que comproba se unha cadea é un identificador válido."
   ]
  },
  {
   "cell_type": "code",
   "execution_count": 4,
   "metadata": {
    "collapsed": false
   },
   "outputs": [
   ],
   "source": [
    "# utilizar a función DC para definir a función\n",
    "def val(S):\n",
    "    \"\"\"\n",
    "    Función para verificar que a cadea S é un identificador válido: devolve True, se é válido, e devolve False, se non é válido)\n",
    "    \"\"\"\n",
    "    return S[-2:] == DC(S[:-2])"
   ]
  },
  {
   "cell_type": "code",
   "execution_count": 5,
   "metadata": {
    "collapsed": false
   },
   "outputs": [
   ],
   "source": [
    "# Algúns exemplos para comprobar que check devolve a resposta correcta:\n",
    "from nose.tools import assert_equal\n",
    "assert_equal(val('123456789A'), True)\n",
    "assert_equal(val('1234567890'), False)\n",
    "assert_equal(val('60'+'2'*8), True)"
   ]
  },
  {
   "cell_type": "markdown",
   "metadata": {
    "collapsed": false
   },
   "source": [
    "### Pregunta 2\n",
    "Lembrarás que a **distancia de Hamming** entre dúas lista de números (ou dous vectores) era a cantidade de entradas (compoñentes) diferentes. "
   ]
  },
  {
   "cell_type": "code",
   "execution_count": 6,
   "metadata": {
    "collapsed": false
   },
   "outputs": [
   ],
   "source": [
    "def h(a,b):  \n",
    "    \"\"\"\n",
    "    Sendo a e b dúas listas ou dous vectores, devolve a súa distancia de Hamming, levantando un erro se non son da mesma lonxitude\n",
    "    \"\"\"\n",
    "    n = len(a)\n",
    "    if n != len(b):\n",
    "        raise ValueError('a e b non son da mesma lonxitude')\n",
    "    return sum([1 for i in range(n) if a[i] != b[i]])"
   ]
  },
  {
   "cell_type": "code",
   "execution_count": 7,
   "metadata": {
    "collapsed": false
   },
   "outputs": [
   ],
   "source": [
    "# Comproba que h devolve o valor correcto en varios exemplos:\n",
    "from nose.tools import assert_equal\n",
    "assert_equal(h([],[]), 0)\n",
    "assert_equal(h([1,0],[2,0]), 1)\n",
    "assert_equal(h(vector(GF(3),[0,1,2,3]), vector(GF(3),[0,0,0,0])), 2)\n",
    "# Comproba que h dá un erro para entradas de distinta lonxitude:\n",
    "from nose.tools import assert_raises\n",
    "assert_raises(ValueError, h, [1],[1,1])"
   ]
  },
  {
   "cell_type": "markdown",
   "metadata": {
    "collapsed": false
   },
   "source": [
    "### Pregunta 3\n",
    "\n",
    "Lembrarás que na clase falamos da familia de códigos **Reed-Müller**, onde \\(\\mathcal{R}(r,m)\\) era un \\(\\big[2^m,\\binom{m}{0}+\\cdots+\\binom{m}{r}, 2^{m-r}\\big]\\ \\ \\mathbb{F}_2\\)- código definido recursivamente mediante:\n",
    "\n",
    "1. \\(\\mathcal{R}(0,m) = \\) { \\(0\\cdots0,1\\cdots1\\) }, o \\([2^m,1,2^{m}]\\ \\ \\mathbb{F}_2\\)- código de repetición, con \\(m\\ge0\\).\n",
    "2. \\( \\mathcal{R}(m,m) = \\mathbb{F}_2^{\\ 2^m}\\), o \\([2^m,2^{m},1]\\ \\ \\mathbb{F}_2\\)- código, con \\(m\\ge1\\).\n",
    "3. \\( \\mathcal{R}(r,m+1) =  \\) { \\( (u|u+v) \\colon u\\in \\mathcal{R}(r,m), \\ \\ v\\in \\mathcal{R}(r-1,m)\\) }, con \\(m+1 > r \\ge 1\\).\n",
    "\n",
    "Debaixo tes unha función para calcular a matriz xeneradora do código \\(\\mathcal{R}(r,m)\\)"
   ]
  },
  {
   "cell_type": "code",
   "execution_count": 9,
   "metadata": {
    "collapsed": false
   },
   "outputs": [
   ],
   "source": [
    "def R(L):            # suporemos que L é a lista [r, m], con 0 ≤ r ≤ m\n",
    "    r = L[0]\n",
    "    m = L[1]\n",
    "    if r == 0:\n",
    "        return matrix(GF(2),[[1]*2^m])\n",
    "    elif r == m:\n",
    "        return identity_matrix(2^m)\n",
    "    else:\n",
    "        return block_matrix(2,2,[ matrix([[0]*2^(m-1)]*sum([binomial(m-1,i) for i in range(r)])),R([r-1,m-1]),R([r,m-1]),R([r,m-1])])"
   ]
  },
  {
   "cell_type": "markdown",
   "metadata": {
    "collapsed": false
   },
   "source": [
    "Sabendo que \\(\\mathcal{R}(r,m)\\^{\\perp}\\) é tamén un código Reed-Müller, define a función `pd` que á lista `[r,m]` lle asocia a lista `[rd,md]` de xeito que \\(\\mathcal{R}(r,m)^{\\perp} = \\mathcal{R}(rd,md)\\).\n",
    "\n",
    "\n",
    "Despois da información dada arriba, so hai que saber que a \\(\\dim(\\mathcal{C}) +\\dim(\\mathcal{C}^{\\perp}) =\\) lonxitude de \\(\\mathcal{C}\\). Logo  \n",
    "\n",
    "\\(\\dim\\big(\\mathcal{R}(rd,md)\\big) = 2^m - \\Big(\\binom{m}{0}+\\cdots+\\binom{m}{r}\\Big) = \\binom{m}{r+1}+\\cdots+\\binom{m}{m} = \\binom{m}{m-(r+1)}+\\binom{m}{m-r-2)}\\cdots+\\binom{m}{0} = \\dim\\big(\\mathcal{R}(r-m-1,m)\\big)\\)"
   ]
  },
  {
   "cell_type": "code",
   "execution_count": 11,
   "metadata": {
    "collapsed": false
   },
   "outputs": [
   ],
   "source": [
    "def pd(L):\n",
    "    \"\"\"\n",
    "    Sendo 0 ≤ r ≤ m, devolve os valores (rd,md) do código R-M dual de R(r,m)\n",
    "    \"\"\"\n",
    "    r = L[0]\n",
    "    m = L[1]\n",
    "    return [m-r-1,m]"
   ]
  },
  {
   "cell_type": "code",
   "execution_count": 12,
   "metadata": {
    "collapsed": false
   },
   "outputs": [
   ],
   "source": [
    "# comproba que pd funciona ben con varios exemplos:\n",
    "from nose.tools import assert_equal\n",
    "assert_equal(pd([2,5]), [2,5])\n",
    "assert_equal(pd([1,4]), [2,4])"
   ]
  },
  {
   "cell_type": "markdown",
   "metadata": {
    "collapsed": false
   },
   "source": [
    "### Pregunta 4\n",
    "A continuación vas definir unha función que che permitirá comprobar que `pd` funciona como se espera. Serache útil lembrar como se definen matrices e que información se pode sacar dunha matriz. Entre outras, na práctica de códigos lineares vimos:\n",
    "\n",
    "`M.columns()`, `M.dimensions()`, `M.kernel()`, `M.transpose()`, `M.inverse()`, `M.row_space()`, `M.rank()`, `M.is_zero()`, `identity_matrix()`, . . ."
   ]
  },
  {
   "cell_type": "code",
   "execution_count": 14,
   "metadata": {
    "collapsed": false
   },
   "outputs": [
   ],
   "source": [
    "# Define unha función para comprobar que dúas matrices `G` e `H` son matrices xeneradoras e de control de un código.\n",
    "def check(G,H):\n",
    "    \"\"\"\n",
    "    Sendo G e H dúas matrices, devolve True se H é matriz de control para un código do que G sexa xeneradora, e False en outro caso\n",
    "    \"\"\"\n",
    "    n = G.ncols()\n",
    "    if n != H.ncols(): raise ValueError('G e H non teñen o mesmo número de columnas')\n",
    "    k = G.rank()\n",
    "    r = H.rank()\n",
    "    return (k == G.nrows()) and (r == H.nrows()) and (k+r == n) and ((G*H.transpose()).is_zero())"
   ]
  },
  {
   "cell_type": "markdown",
   "metadata": {
    "collapsed": false
   },
   "source": [
    "Non só hai que comprobar que o produto \\(G\\cdot H^t\\) é a matriz cero, hai que comprobar que son **matriz xeneradora** e **matriz de control**, verificano que as respectivas filas son linearmente independentes e que a suma dos rangos coincide co número común de columnas."
   ]
  },
  {
   "cell_type": "code",
   "execution_count": 16,
   "metadata": {
    "collapsed": false
   },
   "outputs": [
   ],
   "source": [
    "# Comproba para varias matrices que funciona:\n",
    "from nose.tools import assert_equal\n",
    "assert_equal(check(R([2,5]), R([2,5])), True)\n",
    "assert_equal(check(matrix([[1,0,1],[0,1,0]]), matrix(2,3,[1,0,-1,-1,0,1])), False)\n",
    "# Comproba que check dá un erro para matrices con distinto número de columnas:\n",
    "from nose.tools import assert_raises\n",
    "assert_raises(ValueError, check, matrix([[1]]), matrix([[1,1]]))  # raise ValueError()"
   ]
  },
  {
   "cell_type": "code",
   "execution_count": 0,
   "metadata": {
    "collapsed": false
   },
   "outputs": [
   ],
   "source": [
   ]
  }
 ],
 "metadata": {
  "kernelspec": {
   "display_name": "SageMath 9.2",
   "language": "sagemath",
   "metadata": {
    "cocalc": {
     "description": "Open-source mathematical software system",
     "priority": 10,
     "url": "https://www.sagemath.org/"
    }
   },
   "name": "sage-9.2"
  },
  "language_info": {
   "codemirror_mode": {
    "name": "ipython",
    "version": 3
   },
   "file_extension": ".py",
   "mimetype": "text/x-python",
   "name": "python",
   "nbconvert_exporter": "python",
   "pygments_lexer": "ipython3",
   "version": "3.8.5"
  }
 },
 "nbformat": 4,
 "nbformat_minor": 4
}