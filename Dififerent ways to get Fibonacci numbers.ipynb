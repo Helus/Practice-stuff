{
 "cells": [
  {
   "cell_type": "markdown",
   "metadata": {},
   "source": [
    "# Dififerent ways to get Fibonacci numbers"
   ]
  },
  {
   "cell_type": "code",
   "execution_count": null,
   "metadata": {},
   "outputs": [],
   "source": [
    "# Loading libraries."
   ]
  },
  {
   "cell_type": "code",
   "execution_count": null,
   "metadata": {},
   "outputs": [],
   "source": [
    "import numpy as np\n",
    "import matplotlib.pyplot as plt"
   ]
  },
  {
   "cell_type": "code",
   "execution_count": null,
   "metadata": {},
   "outputs": [],
   "source": [
    "n=20 # Fibonacci number's index "
   ]
  },
  {
   "cell_type": "code",
   "execution_count": null,
   "metadata": {},
   "outputs": [],
   "source": [
    "# 1) Creating a function which gives back the first n Fibonacci numbers."
   ]
  },
  {
   "cell_type": "code",
   "execution_count": null,
   "metadata": {},
   "outputs": [],
   "source": [
    "f0=0; f1=1;  u=[f0]\n",
    "def fibonacci(n, f0, f1, u):\n",
    "    for i in range(n):\n",
    "        fn=f0+f1\n",
    "        u.append(f1); f0=f1; f1=fn  \n",
    "    print('Fibonacci sequence: ', u, ' n= ', n, sep='')\n",
    "    return(f0)\n",
    "fn=fibonacci(n,f0,f1,u)\n",
    "print('f_n= ', fn)"
   ]
  },
  {
   "cell_type": "code",
   "execution_count": null,
   "metadata": {},
   "outputs": [],
   "source": [
    "# 2) Creating a function which gives approximately the n Fibonacci number."
   ]
  },
  {
   "cell_type": "code",
   "execution_count": null,
   "metadata": {},
   "outputs": [],
   "source": [
    "v=[]\n",
    "f= lambda n: 1/(np.sqrt(5))*((1+np.sqrt(5))/2)**n - 1/(np.sqrt(5))*((1-np.sqrt(5))/2)**n  \n",
    "print('f(n)= ',f(n))\n",
    "for i in range(n+1):\n",
    "        v.append(f(i))\n",
    "print(v)"
   ]
  },
  {
   "cell_type": "code",
   "execution_count": null,
   "metadata": {},
   "outputs": [],
   "source": [
    "# Plotting 1) and 2)."
   ]
  },
  {
   "cell_type": "code",
   "execution_count": null,
   "metadata": {},
   "outputs": [],
   "source": [
    "x=np.linspace(0,n+1)\n",
    "\n",
    "plt.figure()\n",
    "plt.plot(u,'o') # blue dots\n",
    "plt.plot(v,'o') # orange dots\n",
    "\n",
    "# Both functions give the fibonacci numbers, but the second one is an aproximated result \n",
    "# because it's operating with real numbers."
   ]
  },
  {
   "cell_type": "code",
   "execution_count": null,
   "metadata": {},
   "outputs": [],
   "source": [
    "# 3) Solving the next matrix system"
   ]
  },
  {
   "cell_type": "code",
   "execution_count": null,
   "metadata": {},
   "outputs": [],
   "source": [
    "A=np.matrix([[0,1],[1,1]])\n",
    "X=np.matrix([0,1])\n",
    "w=[]\n",
    "def matrix_fibo (A, X, w, n):\n",
    "    for i in range(n+1):\n",
    "        B=A**i*X.transpose()\n",
    "        B=np.squeeze(np.asarray(B))\n",
    "        w.append(B[0])\n",
    "    return(w)\n",
    "w=matrix_fibo(A,X,w,n)\n",
    "print(w)\n",
    "\n",
    "plt.plot(w,'o')"
   ]
  }
 ],
 "metadata": {
  "kernelspec": {
   "display_name": "Python 3",
   "language": "python",
   "name": "python3"
  },
  "language_info": {
   "codemirror_mode": {
    "name": "ipython",
    "version": 3
   },
   "file_extension": ".py",
   "mimetype": "text/x-python",
   "name": "python",
   "nbconvert_exporter": "python",
   "pygments_lexer": "ipython3",
   "version": "3.6.5"
  }
 },
 "nbformat": 4,
 "nbformat_minor": 2
}
